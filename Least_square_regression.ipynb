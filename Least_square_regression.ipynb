{
  "nbformat": 4,
  "nbformat_minor": 0,
  "metadata": {
    "colab": {
      "name": "Least square regression.ipynb",
      "provenance": [],
      "collapsed_sections": [],
      "authorship_tag": "ABX9TyMaI9G/hQxy0c0kTxC6Ww9e",
      "include_colab_link": true
    },
    "kernelspec": {
      "name": "python3",
      "display_name": "Python 3"
    },
    "language_info": {
      "name": "python"
    }
  },
  "cells": [
    {
      "cell_type": "markdown",
      "metadata": {
        "id": "view-in-github",
        "colab_type": "text"
      },
      "source": [
        "<a href=\"https://colab.research.google.com/github/NeoLin1103/Machine-learning-algorithms/blob/main/Least_square_regression.ipynb\" target=\"_parent\"><img src=\"https://colab.research.google.com/assets/colab-badge.svg\" alt=\"Open In Colab\"/></a>"
      ]
    },
    {
      "cell_type": "code",
      "metadata": {
        "id": "as81ldKF5fKF"
      },
      "source": [
        "import numpy as np\n",
        "import matplotlib.pyplot as plt\n",
        "%matplotlib inline"
      ],
      "execution_count": 2,
      "outputs": []
    },
    {
      "cell_type": "code",
      "metadata": {
        "colab": {
          "base_uri": "https://localhost:8080/",
          "height": 282
        },
        "id": "nx1q4qNw5kZb",
        "outputId": "acd1886a-3c44-454d-dc77-a2d4748d4b9b"
      },
      "source": [
        "# Y = 3X + 2\n",
        "X = np.c_[np.ones((50,1)),np.random.rand(50,1)]\n",
        "Y = (X @ np.array([2,3])).reshape(-1,1) + np.random.rand(50,1)\n",
        "plt.scatter(X[:,1],Y)"
      ],
      "execution_count": 22,
      "outputs": [
        {
          "output_type": "execute_result",
          "data": {
            "text/plain": [
              "<matplotlib.collections.PathCollection at 0x7f8399c30ad0>"
            ]
          },
          "metadata": {},
          "execution_count": 22
        },
        {
          "output_type": "display_data",
          "data": {
            "image/png": "[encoded data removed]",
            "text/plain": [
              "<Figure size 432x288 with 1 Axes>"
            ]
          },
          "metadata": {
            "needs_background": "light"
          }
        }
      ]
    },
    {
      "cell_type": "markdown",
      "metadata": {
        "id": "1YGyEcSIlIf-"
      },
      "source": [
        "Closed form solution of least square regression:`\n",
        "(X^T*X)^(-1) * X^T * Y`"
      ]
    },
    {
      "cell_type": "code",
      "metadata": {
        "id": "ZE2ziWw25m9m"
      },
      "source": [
        "theta_best = np.linalg.inv(X.T.dot(X)).dot(X.T).dot(Y)"
      ],
      "execution_count": 23,
      "outputs": []
    },
    {
      "cell_type": "code",
      "metadata": {
        "colab": {
          "base_uri": "https://localhost:8080/"
        },
        "id": "Gwmq40Xr514m",
        "outputId": "8de8eba4-dbe6-475a-c939-7a58b458d9c2"
      },
      "source": [
        "# 第一個值是Y軸的截距\n",
        "# 第二個值是斜率\n",
        "print(theta_best)"
      ],
      "execution_count": 24,
      "outputs": [
        {
          "output_type": "stream",
          "name": "stdout",
          "text": [
            "[[2.48229331]\n",
            " [2.84376986]]\n"
          ]
        }
      ]
    },
    {
      "cell_type": "code",
      "metadata": {
        "colab": {
          "base_uri": "https://localhost:8080/",
          "height": 265
        },
        "id": "vVT6W3uY7lLj",
        "outputId": "e93688ea-5639-4d2b-c74d-9d4fa04ad932"
      },
      "source": [
        "plt.figure()\n",
        "plt.scatter(X[:,1],Y)\n",
        "plt.plot(X[:,1],X[:,1]*theta_best[1]+theta_best[0])\n",
        "plt.show()"
      ],
      "execution_count": 27,
      "outputs": [
        {
          "output_type": "display_data",
          "data": {
            "image/png": "[encoded data removed]",
            "text/plain": [
              "<Figure size 432x288 with 1 Axes>"
            ]
          },
          "metadata": {
            "needs_background": "light"
          }
        }
      ]
    },
    {
      "cell_type": "code",
      "metadata": {
        "colab": {
          "base_uri": "https://localhost:8080/"
        },
        "id": "iCOdrv0J7ug9",
        "outputId": "43e66ab9-03b6-4fdb-a28c-26c5d5eb0d5f"
      },
      "source": [
        "theta_best_svd, residuals, rank, s = np.linalg. lstsq(X, Y, rcond=1e-6)\n",
        "print(theta_best_svd)"
      ],
      "execution_count": 31,
      "outputs": [
        {
          "output_type": "stream",
          "name": "stdout",
          "text": [
            "[[2.48229331]\n",
            " [2.84376986]]\n"
          ]
        }
      ]
    },
    {
      "cell_type": "code",
      "metadata": {
        "colab": {
          "base_uri": "https://localhost:8080/"
        },
        "id": "TcGlkXDh7weh",
        "outputId": "a88f2994-3a50-4c7d-d11e-b8fda2d07e56"
      },
      "source": [
        "# Psuedo inverse of X\n",
        "# = (X^T*X)^(-1) * X^T\n",
        "print(np.linalg.pinv(X).dot(Y))"
      ],
      "execution_count": 29,
      "outputs": [
        {
          "output_type": "stream",
          "name": "stdout",
          "text": [
            "[[2.48229331]\n",
            " [2.84376986]]\n"
          ]
        }
      ]
    }
  ]
}