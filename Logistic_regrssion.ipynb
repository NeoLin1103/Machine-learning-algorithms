{
  "nbformat": 4,
  "nbformat_minor": 0,
  "metadata": {
    "colab": {
      "name": "Logistic regrssion.ipynb",
      "provenance": [],
      "collapsed_sections": [],
      "authorship_tag": "ABX9TyOZxefiGzxrTjR9fzHW9Po4",
      "include_colab_link": true
    },
    "kernelspec": {
      "name": "python3",
      "display_name": "Python 3"
    },
    "language_info": {
      "name": "python"
    }
  },
  "cells": [
    {
      "cell_type": "markdown",
      "metadata": {
        "id": "view-in-github",
        "colab_type": "text"
      },
      "source": [
        "<a href=\"https://colab.research.google.com/github/NeoLin1103/Machine-learning-algorithms/blob/main/Logistic_regrssion.ipynb\" target=\"_parent\"><img src=\"https://colab.research.google.com/assets/colab-badge.svg\" alt=\"Open In Colab\"/></a>"
      ]
    },
    {
      "cell_type": "code",
      "metadata": {
        "id": "3joXbM---C7w"
      },
      "source": [
        "import numpy as np\n",
        "import pandas as pd\n",
        "import matplotlib.pyplot as plt\n",
        "from sklearn import model_selection\n",
        "%matplotlib inline"
      ],
      "execution_count": null,
      "outputs": []
    },
    {
      "cell_type": "code",
      "metadata": {
        "colab": {
          "base_uri": "https://localhost:8080/"
        },
        "id": "LXNNQurd-Iur",
        "outputId": "eb022ae0-f937-4c74-953d-bfeb76d68e60"
      },
      "source": [
        "# Load the Drive helper and mount\n",
        "from google.colab import drive\n",
        "# This will prompt for authorization.\n",
        "drive.mount('/content/drive')\n",
        "# After executing the cell above, Drive\n",
        "# files will be present in \"/content/drive/My Drive\".\n",
        "!ls \"/content/drive/My Drive/Datasets\""
      ],
      "execution_count": null,
      "outputs": [
        {
          "output_type": "stream",
          "name": "stdout",
          "text": [
            "Mounted at /content/drive\n",
            "gender_submission.csv  MNIST  Pokemon  test.csv  Titanic  train.csv\n"
          ]
        }
      ]
    },
    {
      "cell_type": "code",
      "metadata": {
        "id": "aVmdQE6y-KNg"
      },
      "source": [
        "Titanic = pd.read_csv(\"/content/drive/My Drive/Datasets/train.csv\")"
      ],
      "execution_count": null,
      "outputs": []
    },
    {
      "cell_type": "code",
      "metadata": {
        "colab": {
          "base_uri": "https://localhost:8080/",
          "height": 221
        },
        "id": "xj-KdRpl-MUY",
        "outputId": "a32be8b5-7a36-4f04-eb17-d374ccdcbc5f"
      },
      "source": [
        "print(Titanic.shape)\n",
        "Titanic.head()"
      ],
      "execution_count": null,
      "outputs": [
        {
          "output_type": "stream",
          "name": "stdout",
          "text": [
            "(891, 12)\n"
          ]
        },
        {
          "output_type": "execute_result",
          "data": {
            "text/html": [
              "<div>\n",
              "<style scoped>\n",
              "    .dataframe tbody tr th:only-of-type {\n",
              "        vertical-align: middle;\n",
              "    }\n",
              "\n",
              "    .dataframe tbody tr th {\n",
              "        vertical-align: top;\n",
              "    }\n",
              "\n",
              "    .dataframe thead th {\n",
              "        text-align: right;\n",
              "    }\n",
              "</style>\n",
              "<table border=\"1\" class=\"dataframe\">\n",
              "  <thead>\n",
              "    <tr style=\"text-align: right;\">\n",
              "      <th></th>\n",
              "      <th>PassengerId</th>\n",
              "      <th>Survived</th>\n",
              "      <th>Pclass</th>\n",
              "      <th>Name</th>\n",
              "      <th>Sex</th>\n",
              "      <th>Age</th>\n",
              "      <th>SibSp</th>\n",
              "      <th>Parch</th>\n",
              "      <th>Ticket</th>\n",
              "      <th>Fare</th>\n",
              "      <th>Cabin</th>\n",
              "      <th>Embarked</th>\n",
              "    </tr>\n",
              "  </thead>\n",
              "  <tbody>\n",
              "    <tr>\n",
              "      <th>0</th>\n",
              "      <td>1</td>\n",
              "      <td>0</td>\n",
              "      <td>3</td>\n",
              "      <td>Braund, Mr. Owen Harris</td>\n",
              "      <td>male</td>\n",
              "      <td>22.0</td>\n",
              "      <td>1</td>\n",
              "      <td>0</td>\n",
              "      <td>A/5 21171</td>\n",
              "      <td>7.2500</td>\n",
              "      <td>NaN</td>\n",
              "      <td>S</td>\n",
              "    </tr>\n",
              "    <tr>\n",
              "      <th>1</th>\n",
              "      <td>2</td>\n",
              "      <td>1</td>\n",
              "      <td>1</td>\n",
              "      <td>Cumings, Mrs. John Bradley (Florence Briggs Th...</td>\n",
              "      <td>female</td>\n",
              "      <td>38.0</td>\n",
              "      <td>1</td>\n",
              "      <td>0</td>\n",
              "      <td>PC 17599</td>\n",
              "      <td>71.2833</td>\n",
              "      <td>C85</td>\n",
              "      <td>C</td>\n",
              "    </tr>\n",
              "    <tr>\n",
              "      <th>2</th>\n",
              "      <td>3</td>\n",
              "      <td>1</td>\n",
              "      <td>3</td>\n",
              "      <td>Heikkinen, Miss. Laina</td>\n",
              "      <td>female</td>\n",
              "      <td>26.0</td>\n",
              "      <td>0</td>\n",
              "      <td>0</td>\n",
              "      <td>STON/O2. 3101282</td>\n",
              "      <td>7.9250</td>\n",
              "      <td>NaN</td>\n",
              "      <td>S</td>\n",
              "    </tr>\n",
              "    <tr>\n",
              "      <th>3</th>\n",
              "      <td>4</td>\n",
              "      <td>1</td>\n",
              "      <td>1</td>\n",
              "      <td>Futrelle, Mrs. Jacques Heath (Lily May Peel)</td>\n",
              "      <td>female</td>\n",
              "      <td>35.0</td>\n",
              "      <td>1</td>\n",
              "      <td>0</td>\n",
              "      <td>113803</td>\n",
              "      <td>53.1000</td>\n",
              "      <td>C123</td>\n",
              "      <td>S</td>\n",
              "    </tr>\n",
              "    <tr>\n",
              "      <th>4</th>\n",
              "      <td>5</td>\n",
              "      <td>0</td>\n",
              "      <td>3</td>\n",
              "      <td>Allen, Mr. William Henry</td>\n",
              "      <td>male</td>\n",
              "      <td>35.0</td>\n",
              "      <td>0</td>\n",
              "      <td>0</td>\n",
              "      <td>373450</td>\n",
              "      <td>8.0500</td>\n",
              "      <td>NaN</td>\n",
              "      <td>S</td>\n",
              "    </tr>\n",
              "  </tbody>\n",
              "</table>\n",
              "</div>"
            ],
            "text/plain": [
              "   PassengerId  Survived  Pclass  ...     Fare Cabin  Embarked\n",
              "0            1         0       3  ...   7.2500   NaN         S\n",
              "1            2         1       1  ...  71.2833   C85         C\n",
              "2            3         1       3  ...   7.9250   NaN         S\n",
              "3            4         1       1  ...  53.1000  C123         S\n",
              "4            5         0       3  ...   8.0500   NaN         S\n",
              "\n",
              "[5 rows x 12 columns]"
            ]
          },
          "metadata": {},
          "execution_count": 4
        }
      ]
    },
    {
      "cell_type": "code",
      "metadata": {
        "id": "aLPzlBI7-PIs"
      },
      "source": [
        "X_train, X_test, y_train, y_test = model_selection.train_test_split(Titanic.iloc[:,2:], Titanic.iloc[:,1], test_size=0.25, random_state=42)"
      ],
      "execution_count": null,
      "outputs": []
    },
    {
      "cell_type": "code",
      "metadata": {
        "id": "G0iOpGNz-Qcn"
      },
      "source": [
        "def preprocessing(df):\n",
        "  # missing value imputation\n",
        "  df.Embarked.fillna(value=df.Embarked.value_counts().index[0], inplace=True)\n",
        "  df.Age.fillna(value=df.Age.mean(), inplace=True)\n",
        "  df[\"with_cabin\"] = df.Cabin.apply(lambda x: 0 if pd.isna(x) else 1)\n",
        "  # one-hot encoding\n",
        "  df = pd.get_dummies(df, columns=[\"Pclass\",\"Sex\",\"Embarked\"])\n",
        "  drop_list = [\"Name\",\"Ticket\",\"Cabin\"]\n",
        "  df.drop(axis=1, columns=drop_list, inplace=True)\n",
        "  # normalization\n",
        "  age_max = df.Age.max()\n",
        "  age_min = df.Age.min()\n",
        "  df[\"Age\"] = df.Age.apply(lambda x: (x - age_min)/(age_max-age_min))\n",
        "  fare_max = df.Fare.max()\n",
        "  fare_min = df.Fare.min()\n",
        "  df[\"Fare\"] = df.Fare.apply(lambda x: (x - fare_min)/(fare_max-fare_min))\n",
        "  sibsp_max = df.SibSp.max()\n",
        "  sibsp_min = df.SibSp.min()\n",
        "  df[\"SibSp\"] = df.SibSp.apply(lambda x: (x - sibsp_min)/(sibsp_max-sibsp_min))\n",
        "  parch_max = df.Parch.max()\n",
        "  parch_min = df.Parch.min()\n",
        "  df[\"Parch\"] = df.Parch.apply(lambda x: (x - parch_min)/(parch_max-parch_min))\n",
        "  return df"
      ],
      "execution_count": null,
      "outputs": []
    },
    {
      "cell_type": "code",
      "metadata": {
        "id": "aFFQeSO3-ZBP"
      },
      "source": [
        "X_train = preprocessing(X_train)\n",
        "X_test = preprocessing(X_test)"
      ],
      "execution_count": null,
      "outputs": []
    },
    {
      "cell_type": "code",
      "metadata": {
        "id": "z84tJZP7-g1a"
      },
      "source": [
        "def Prediction(h_of_x, threshold): \n",
        "  Y_hat = np.zeros(h_of_x.shape[0])\n",
        "  for i in range(Y_hat.shape[0]):\n",
        "    if h_of_x[i] > threshold:\n",
        "      Y_hat[i] = 1\n",
        "    else:\n",
        "      Y_hat[i] = 0\n",
        "  return Y_hat\n",
        " \n",
        "def Accuracy(Y,Y_hat): return Y == Y_hat\n",
        "\n",
        "def Logit_function(Xm, Wm):\n",
        "  t = Xm @ Wm\n",
        "  return 1/(1+np.exp(-t))\n",
        " \n",
        "def Gradient_of_xj(hX,Y,xj): \n",
        "  # First derivative of cost function\n",
        "  grad = np.multiply(hX - Y, xj)\n",
        "  return np.mean(grad)"
      ],
      "execution_count": null,
      "outputs": []
    },
    {
      "cell_type": "code",
      "metadata": {
        "colab": {
          "base_uri": "https://localhost:8080/"
        },
        "id": "9XdTDlkL-eUe",
        "outputId": "ef18e9ec-7cb5-4a15-a880-2b306d9baceb"
      },
      "source": [
        "Xm = X_train.iloc[:,:]\n",
        "Ym = y_train.iloc[:]\n",
        "Xm = np.append(np.ones((len(Ym),1)), Xm,axis=1)\n",
        "Wm = np.random.rand(Xm.shape[1])\n",
        " \n",
        "Epochs = 2000\n",
        "lr = 0.01\n",
        "h_theta_of_x = Logit_function(Xm,Wm)\n",
        "print(f\"Accuracy of random guess: {Accuracy(Ym,Prediction(h_theta_of_x,0.5)).mean()}\")\n",
        "for i in range(Epochs):\n",
        "  h_theta_of_x = Logit_function(Xm,Wm)\n",
        "  gradient_of_x = np.array([Gradient_of_xj(h_theta_of_x,Ym,Xm[:,j]) for j in range(len(Wm))])\n",
        "  Wm = Wm - lr*gradient_of_x\n",
        "print(f\"Accuracy of logitic regression classifier: {Accuracy(Ym,Prediction(h_theta_of_x,0.5)).mean()}\")"
      ],
      "execution_count": null,
      "outputs": [
        {
          "output_type": "stream",
          "name": "stdout",
          "text": [
            "Accuracy of random guess: 0.3787425149700599\n",
            "Accuracy of logitic regression classifier: 0.7934131736526946\n"
          ]
        }
      ]
    }
  ]
}